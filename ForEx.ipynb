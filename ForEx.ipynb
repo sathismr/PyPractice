{
 "cells": [
  {
   "cell_type": "code",
   "execution_count": 2,
   "metadata": {
    "collapsed": true
   },
   "outputs": [
    {
     "name": "stdout",
     "output_type": "stream",
     "text": [
      "0 Australia\n1 India\n2 Singapore\n3 Japan\n4 This is fun task\n"
     ]
    }
   ],
   "source": [
    "words = [\"Australia\",\"India\", \"Singapore\", \"Japan\", \"This is fun task\"]\n",
    "words1=[]\n",
    "for i in range(len(words)):\n",
    "   print(i, words[i])"
   ]
  },
  {
   "cell_type": "code",
   "execution_count": 4,
   "metadata": {},
   "outputs": [
    {
     "name": "stdout",
     "output_type": "stream",
     "text": [
      "0 Australia\n1 India\n2 Singapore\n3 Japan\n4 This is fun task\n"
     ]
    }
   ],
   "source": [
    "for i,word in enumerate(words):\n",
    "    print (i, word)"
   ]
  },
  {
   "cell_type": "code",
   "execution_count": 6,
   "metadata": {},
   "outputs": [
    {
     "name": "stdout",
     "output_type": "stream",
     "text": [
      "This is prime number 2\nThis is prime number 3\nNot a prime number 4\nThis is prime number 5\nNot a prime number 6\nThis is prime number 7\nNot a prime number 8\nNot a prime number 9\n"
     ]
    }
   ],
   "source": [
    "for n in range (2,10):\n",
    "    for x in range(2,n):\n",
    "        if n % x == 0:\n",
    "            print ('Not a prime number',n)\n",
    "            break\n",
    "    else:\n",
    "        print ('This is prime number', n)"
   ]
  },
  {
   "cell_type": "code",
   "execution_count": 9,
   "metadata": {},
   "outputs": [
    {
     "name": "stdout",
     "output_type": "stream",
     "text": [
      "Found an even number  2\nFound an even number  4\nFound an even number  6\nFound an even number  8\n"
     ]
    }
   ],
   "source": [
    "for num in range(2, 10):\n",
    "    if num % 2 == 0:\n",
    "        print (\"Found an even number \",num)\n",
    "        continue\n",
    "        print(\"Found a number\",num)"
   ]
  },
  {
   "cell_type": "code",
   "execution_count": 10,
   "metadata": {},
   "outputs": [],
   "source": [
    ""
   ]
  }
 ],
 "metadata": {
  "kernelspec": {
   "display_name": "Python 2",
   "language": "python",
   "name": "python2"
  },
  "language_info": {
   "codemirror_mode": {
    "name": "ipython",
    "version": 2.0
   },
   "file_extension": ".py",
   "mimetype": "text/x-python",
   "name": "python",
   "nbconvert_exporter": "python",
   "pygments_lexer": "ipython2",
   "version": "2.7.6"
  }
 },
 "nbformat": 4,
 "nbformat_minor": 0
}